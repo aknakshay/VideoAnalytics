{
  "nbformat": 4,
  "nbformat_minor": 0,
  "metadata": {
    "colab": {
      "name": "Emotion Classifier - Modelling .ipynb",
      "provenance": [],
      "collapsed_sections": [],
      "include_colab_link": true
    },
    "kernelspec": {
      "name": "python3",
      "display_name": "Python 3.6",
      "language": "python"
    },
    "accelerator": "GPU",
    "language_info": {
      "name": "python",
      "version": "3.6.9",
      "mimetype": "text/x-python",
      "codemirror_mode": {
        "name": "ipython",
        "version": 3
      },
      "pygments_lexer": "ipython3",
      "nbconvert_exporter": "python",
      "file_extension": ".py"
    }
  },
  "cells": [
    {
      "cell_type": "markdown",
      "metadata": {
        "id": "view-in-github",
        "colab_type": "text"
      },
      "source": [
        "<a href=\"https://colab.research.google.com/github/aknakshay/VideoAnalytics/blob/master/Emotion_Classifier_Modelling_.ipynb\" target=\"_parent\"><img src=\"https://colab.research.google.com/assets/colab-badge.svg\" alt=\"Open In Colab\"/></a>"
      ]
    },
    {
      "cell_type": "markdown",
      "metadata": {
        "id": "83pM76LxfXP8",
        "colab_type": "text"
      },
      "source": [
        "# Emotion Classifier\n"
      ]
    },
    {
      "cell_type": "code",
      "metadata": {
        "id": "UdQHTvMTfs1c",
        "colab_type": "code",
        "colab": {}
      },
      "source": [
        "#import libraries\n",
        "import warnings\n",
        "warnings.filterwarnings('ignore')\n",
        "import pandas as pd\n",
        "import numpy as np"
      ],
      "execution_count": 0,
      "outputs": []
    },
    {
      "cell_type": "markdown",
      "metadata": {
        "id": "m6vgqwva0PKy",
        "colab_type": "text"
      },
      "source": [
        "## Load the fer2013 grayscale face emotion dataset\n",
        "\n",
        "https://www.kaggle.com/c/challenges-in-representation-learning-facial-expression-recognition-challenge/data\n",
        "\n",
        "We manually do an 80/20 train-test split and cache the data to disk."
      ]
    },
    {
      "cell_type": "code",
      "metadata": {
        "id": "ujDGNN-FgNBa",
        "colab_type": "code",
        "colab": {}
      },
      "source": [
        "def load_fer2013(force=False):\n",
        "    #This function is taken from weights and biases demo\n",
        "    \"\"\"Load the emotion dataset\"\"\"\n",
        "    if force or not os.path.exists(\"fer2013\"):\n",
        "        print(\"Downloading the face emotion dataset...\")\n",
        "        subprocess.check_output(\n",
        "            \"curl -SL https://www.dropbox.com/s/opuvvdv3uligypx/fer2013.tar | tar xz\", shell=True)\n",
        "    print(\"Loading dataset...\")\n",
        "    if not os.path.exists('face_cache.npz'):\n",
        "        data = pd.read_csv(\"fer2013/fer2013.csv\")\n",
        "        pixels = data['pixels'].tolist()\n",
        "        width, height = 48, 48\n",
        "        faces = []\n",
        "        for pixel_sequence in pixels:\n",
        "            pixs = pixel_sequence.split(' ')\n",
        "            try:\n",
        "                face = np.asarray(pixel_sequence.split(\n",
        "                    ' '), dtype=np.uint8).reshape(width, height)\n",
        "                face = cv2.resize(face.astype('uint8'), (width, height))\n",
        "                faces.append(face.astype('float32'))\n",
        "            except ValueError:\n",
        "              print(\"Unable to load face.\")\n",
        "\n",
        "        faces = np.asarray(faces)\n",
        "        faces = np.expand_dims(faces, -1)\n",
        "        emotions = pd.get_dummies(data['emotion']).as_matrix()\n",
        "\n",
        "        val_faces = faces[int(len(faces) * 0.8):]\n",
        "        val_emotions = emotions[int(len(faces) * 0.8):]\n",
        "        train_faces = faces[:int(len(faces) * 0.8)]\n",
        "        train_emotions = emotions[:int(len(faces) * 0.8)]\n",
        "        np.savez('face_cache.npz', train_faces=train_faces, train_emotions=train_emotions,\n",
        "                 val_faces=val_faces, val_emotions=val_emotions)\n",
        "    cached = np.load('face_cache.npz')\n",
        "\n",
        "    return cached['train_faces'], cached['train_emotions'], cached['val_faces'], cached['val_emotions']"
      ],
      "execution_count": 0,
      "outputs": []
    },
    {
      "cell_type": "markdown",
      "metadata": {
        "id": "ihedxZW-364Y",
        "colab_type": "text"
      },
      "source": [
        "# Model Training"
      ]
    },
    {
      "cell_type": "code",
      "metadata": {
        "id": "y1qA4KwCNMOI",
        "colab_type": "code",
        "colab": {}
      },
      "source": [
        "import tensorflow as tf\n",
        "tf.keras.backend.clear_session()\n",
        "\n",
        "\n",
        "# Load dataset\n",
        "input_shape = (48, 48, 1)\n",
        "train_faces, train_emotions, val_faces, val_emotions = load_fer2013()\n",
        "num_samples, num_classes = train_emotions.shape\n"
      ],
      "execution_count": 0,
      "outputs": []
    },
    {
      "cell_type": "code",
      "metadata": {
        "id": "bi4Tz7hJZfDW",
        "colab_type": "code",
        "colab": {}
      },
      "source": [
        "optimizer = tf.keras.optimizers.Adam(lr=0.0001)\n",
        "\n",
        "model = tf.keras.Sequential()\n",
        "\n",
        "model.add(tf.keras.layers.Conv2D(filters = 64, kernel_size = (3, 3), padding = 'same', \n",
        "                  activation ='relu', input_shape = input_shape))\n",
        "model.add(tf.keras.layers.MaxPooling2D(pool_size=(3, 3)))\n",
        "model.add(tf.keras.layers.Dropout(0.3))\n",
        "\n",
        "\n",
        "model.add(tf.keras.layers.Conv2D(filters = 128, kernel_size = (3, 3), padding = 'same', \n",
        "                  activation ='relu', input_shape = input_shape))\n",
        "model.add(tf.keras.layers.MaxPooling2D(pool_size=(3, 3)))\n",
        "model.add(tf.keras.layers.Dropout(0.3))\n",
        "\n",
        "\n",
        "\n",
        "model.add(tf.keras.layers.Conv2D(filters = 256, kernel_size = (3, 3), padding = 'same', \n",
        "                  activation ='relu'))\n",
        "model.add(tf.keras.layers.MaxPooling2D(pool_size=(3, 3)))\n",
        "model.add(tf.keras.layers.Dropout(0.3))\n",
        "\n",
        "model.add(tf.keras.layers.Flatten())\n",
        "\n",
        "model.add(tf.keras.layers.Dense(256, activation=\"relu\"))\n",
        "model.add(tf.keras.layers.Dropout(0.3))\n",
        "\n",
        "model.add(tf.keras.layers.Dense(64, activation=\"relu\"))\n",
        "\n",
        "model.add(tf.keras.layers.Dropout(0.4))\n",
        "model.add(tf.keras.layers.Dense(num_classes, activation=\"softmax\"))\n",
        "model.compile(optimizer=optimizer, loss='categorical_crossentropy',\n",
        "              metrics=['accuracy'])\n"
      ],
      "execution_count": 0,
      "outputs": []
    },
    {
      "cell_type": "code",
      "metadata": {
        "id": "vIiZ9_9nXLNh",
        "colab_type": "code",
        "colab": {}
      },
      "source": [
        "datagen = tf.keras.preprocessing.image.ImageDataGenerator(\n",
        "    featurewise_center=True,\n",
        "    featurewise_std_normalization=True,\n",
        "    rotation_range=20,\n",
        "    width_shift_range=0.2,\n",
        "    height_shift_range=0.2,\n",
        "    horizontal_flip=True,\n",
        "    validation_split=.1)\n",
        "\n",
        "seed = 1\n",
        "training_generator = datagen.flow(train_faces, train_emotions, batch_size=32,subset='training',seed=seed)\n",
        "validation_generator = datagen.flow(train_faces, train_emotions, batch_size=32,subset='validation',seed=seed)\n"
      ],
      "execution_count": 0,
      "outputs": []
    },
    {
      "cell_type": "code",
      "metadata": {
        "id": "URm_JONTZNVv",
        "colab_type": "code",
        "outputId": "37c55a2c-8b15-47bd-f130-336f061838af",
        "colab": {
          "base_uri": "https://localhost:8080/",
          "height": 1000
        }
      },
      "source": [
        "model.fit_generator(datagen.flow(train_faces, train_emotions, batch_size=32),\n",
        "                    steps_per_epoch=len(train_faces)/4, epochs=50,validation_data=validation_generator, validation_steps=(len(train_faces)*0.2)//32)"
      ],
      "execution_count": 0,
      "outputs": [
        {
          "output_type": "stream",
          "text": [
            "Epoch 1/50\n",
            "7177/7177 [============================>.] - ETA: 0s - loss: 2.0514 - acc: 0.2246Epoch 1/50\n",
            "7178/7177 [==============================] - 123s 17ms/step - loss: 2.0514 - acc: 0.2246 - val_loss: 1.8376 - val_acc: 0.2485\n",
            "Epoch 2/50\n",
            "7176/7177 [============================>.] - ETA: 0s - loss: 1.8197 - acc: 0.2509Epoch 1/50\n",
            "7178/7177 [==============================] - 126s 18ms/step - loss: 1.8197 - acc: 0.2509 - val_loss: 1.8134 - val_acc: 0.2476\n",
            "Epoch 3/50\n",
            "7176/7177 [============================>.] - ETA: 0s - loss: 1.7963 - acc: 0.2562Epoch 1/50\n",
            "7178/7177 [==============================] - 125s 17ms/step - loss: 1.7963 - acc: 0.2562 - val_loss: 1.7449 - val_acc: 0.2782\n",
            "Epoch 4/50\n",
            "7177/7177 [============================>.] - ETA: 0s - loss: 1.7318 - acc: 0.2871Epoch 1/50\n",
            "7178/7177 [==============================] - 126s 18ms/step - loss: 1.7318 - acc: 0.2871 - val_loss: 1.6700 - val_acc: 0.3038\n",
            "Epoch 5/50\n",
            "7175/7177 [============================>.] - ETA: 0s - loss: 1.6725 - acc: 0.3162Epoch 1/50\n",
            "7178/7177 [==============================] - 125s 17ms/step - loss: 1.6725 - acc: 0.3162 - val_loss: 1.6045 - val_acc: 0.3477\n",
            "Epoch 6/50\n",
            "7175/7177 [============================>.] - ETA: 0s - loss: 1.6207 - acc: 0.3527Epoch 1/50\n",
            "7178/7177 [==============================] - 124s 17ms/step - loss: 1.6207 - acc: 0.3527 - val_loss: 1.5460 - val_acc: 0.3933\n",
            "Epoch 7/50\n",
            "7177/7177 [============================>.] - ETA: 0s - loss: 1.5779 - acc: 0.3815Epoch 1/50\n",
            "7178/7177 [==============================] - 117s 16ms/step - loss: 1.5779 - acc: 0.3815 - val_loss: 1.4866 - val_acc: 0.4281\n",
            "Epoch 8/50\n",
            "7176/7177 [============================>.] - ETA: 0s - loss: 1.5431 - acc: 0.4025Epoch 1/50\n",
            "7178/7177 [==============================] - 128s 18ms/step - loss: 1.5431 - acc: 0.4025 - val_loss: 1.4576 - val_acc: 0.4288\n",
            "Epoch 9/50\n",
            "7177/7177 [============================>.] - ETA: 0s - loss: 1.5119 - acc: 0.4173Epoch 1/50\n",
            "7178/7177 [==============================] - 126s 18ms/step - loss: 1.5119 - acc: 0.4173 - val_loss: 1.4269 - val_acc: 0.4549\n",
            "Epoch 10/50\n",
            "7176/7177 [============================>.] - ETA: 0s - loss: 1.4889 - acc: 0.4297Epoch 1/50\n",
            "7178/7177 [==============================] - 129s 18ms/step - loss: 1.4889 - acc: 0.4297 - val_loss: 1.3950 - val_acc: 0.4690\n",
            "Epoch 11/50\n",
            "7177/7177 [============================>.] - ETA: 0s - loss: 1.4675 - acc: 0.4399Epoch 1/50\n",
            "7178/7177 [==============================] - 127s 18ms/step - loss: 1.4674 - acc: 0.4399 - val_loss: 1.3788 - val_acc: 0.4787\n",
            "Epoch 12/50\n",
            "7176/7177 [============================>.] - ETA: 0s - loss: 1.4519 - acc: 0.4486Epoch 1/50\n",
            "7178/7177 [==============================] - 127s 18ms/step - loss: 1.4519 - acc: 0.4486 - val_loss: 1.3607 - val_acc: 0.4813\n",
            "Epoch 13/50\n",
            "7177/7177 [============================>.] - ETA: 0s - loss: 1.4343 - acc: 0.4546Epoch 1/50\n",
            "7178/7177 [==============================] - 127s 18ms/step - loss: 1.4342 - acc: 0.4546 - val_loss: 1.3202 - val_acc: 0.4986\n",
            "Epoch 14/50\n",
            "7177/7177 [============================>.] - ETA: 0s - loss: 1.4191 - acc: 0.4611Epoch 1/50\n",
            "7178/7177 [==============================] - 119s 17ms/step - loss: 1.4191 - acc: 0.4611 - val_loss: 1.3350 - val_acc: 0.4920\n",
            "Epoch 15/50\n",
            "7177/7177 [============================>.] - ETA: 0s - loss: 1.4069 - acc: 0.4667Epoch 1/50\n",
            "7178/7177 [==============================] - 119s 17ms/step - loss: 1.4069 - acc: 0.4667 - val_loss: 1.2968 - val_acc: 0.5073\n",
            "Epoch 16/50\n",
            "7175/7177 [============================>.] - ETA: 0s - loss: 1.3958 - acc: 0.4719Epoch 1/50\n",
            "7178/7177 [==============================] - 125s 17ms/step - loss: 1.3958 - acc: 0.4719 - val_loss: 1.3003 - val_acc: 0.5080\n",
            "Epoch 17/50\n",
            "7176/7177 [============================>.] - ETA: 0s - loss: 1.3861 - acc: 0.4763Epoch 1/50\n",
            "7178/7177 [==============================] - 124s 17ms/step - loss: 1.3861 - acc: 0.4763 - val_loss: 1.2841 - val_acc: 0.5108\n",
            "Epoch 18/50\n",
            "7174/7177 [============================>.] - ETA: 0s - loss: 1.3733 - acc: 0.4814Epoch 1/50\n",
            "7178/7177 [==============================] - 124s 17ms/step - loss: 1.3734 - acc: 0.4814 - val_loss: 1.2696 - val_acc: 0.5243\n",
            "Epoch 19/50\n",
            "7174/7177 [============================>.] - ETA: 0s - loss: 1.3672 - acc: 0.4864Epoch 1/50\n",
            "7178/7177 [==============================] - 123s 17ms/step - loss: 1.3672 - acc: 0.4865 - val_loss: 1.2613 - val_acc: 0.5226\n",
            "Epoch 20/50\n",
            "7176/7177 [============================>.] - ETA: 0s - loss: 1.3591 - acc: 0.4891Epoch 1/50\n",
            "7178/7177 [==============================] - 123s 17ms/step - loss: 1.3591 - acc: 0.4891 - val_loss: 1.2511 - val_acc: 0.5303\n",
            "Epoch 21/50\n",
            "7175/7177 [============================>.] - ETA: 0s - loss: 1.3522 - acc: 0.4909Epoch 1/50\n",
            "7178/7177 [==============================] - 123s 17ms/step - loss: 1.3522 - acc: 0.4909 - val_loss: 1.2467 - val_acc: 0.5364\n",
            "Epoch 22/50\n",
            "7175/7177 [============================>.] - ETA: 0s - loss: 1.3446 - acc: 0.4938Epoch 1/50\n",
            "7178/7177 [==============================] - 121s 17ms/step - loss: 1.3445 - acc: 0.4938 - val_loss: 1.2422 - val_acc: 0.5357\n",
            "Epoch 23/50\n",
            "7175/7177 [============================>.] - ETA: 0s - loss: 1.3377 - acc: 0.4985Epoch 1/50\n",
            "7178/7177 [==============================] - 125s 17ms/step - loss: 1.3377 - acc: 0.4985 - val_loss: 1.2609 - val_acc: 0.5366\n",
            "Epoch 24/50\n",
            "7176/7177 [============================>.] - ETA: 0s - loss: 1.3306 - acc: 0.4998Epoch 1/50\n",
            "7178/7177 [==============================] - 123s 17ms/step - loss: 1.3305 - acc: 0.4998 - val_loss: 1.2172 - val_acc: 0.5434\n",
            "Epoch 25/50\n",
            "7176/7177 [============================>.] - ETA: 0s - loss: 1.3259 - acc: 0.5022Epoch 1/50\n",
            "7178/7177 [==============================] - 118s 16ms/step - loss: 1.3258 - acc: 0.5022 - val_loss: 1.2123 - val_acc: 0.5435\n",
            "Epoch 26/50\n",
            "7174/7177 [============================>.] - ETA: 0s - loss: 1.3204 - acc: 0.5049Epoch 1/50\n",
            "7178/7177 [==============================] - 115s 16ms/step - loss: 1.3204 - acc: 0.5049 - val_loss: 1.2081 - val_acc: 0.5474\n",
            "Epoch 27/50\n",
            "7175/7177 [============================>.] - ETA: 0s - loss: 1.3127 - acc: 0.5085Epoch 1/50\n",
            "7178/7177 [==============================] - 114s 16ms/step - loss: 1.3127 - acc: 0.5085 - val_loss: 1.2260 - val_acc: 0.5353\n",
            "Epoch 28/50\n",
            "7176/7177 [============================>.] - ETA: 0s - loss: 1.3097 - acc: 0.5088Epoch 1/50\n",
            "7178/7177 [==============================] - 116s 16ms/step - loss: 1.3097 - acc: 0.5088 - val_loss: 1.2033 - val_acc: 0.5477\n",
            "Epoch 29/50\n",
            "7177/7177 [============================>.] - ETA: 0s - loss: 1.3060 - acc: 0.5100Epoch 1/50\n",
            "7178/7177 [==============================] - 123s 17ms/step - loss: 1.3061 - acc: 0.5100 - val_loss: 1.2145 - val_acc: 0.5462\n",
            "Epoch 30/50\n",
            "7177/7177 [============================>.] - ETA: 0s - loss: 1.3035 - acc: 0.5114Epoch 1/50\n",
            "7178/7177 [==============================] - 124s 17ms/step - loss: 1.3035 - acc: 0.5114 - val_loss: 1.1938 - val_acc: 0.5617\n",
            "Epoch 31/50\n",
            "7176/7177 [============================>.] - ETA: 0s - loss: 1.2946 - acc: 0.5157Epoch 1/50\n",
            "7178/7177 [==============================] - 126s 18ms/step - loss: 1.2946 - acc: 0.5157 - val_loss: 1.1795 - val_acc: 0.5532\n",
            "Epoch 32/50\n",
            "7175/7177 [============================>.] - ETA: 0s - loss: 1.2956 - acc: 0.5142Epoch 1/50\n",
            "7178/7177 [==============================] - 124s 17ms/step - loss: 1.2955 - acc: 0.5142 - val_loss: 1.1718 - val_acc: 0.5647\n",
            "Epoch 33/50\n",
            "7176/7177 [============================>.] - ETA: 0s - loss: 1.2919 - acc: 0.5159Epoch 1/50\n",
            "7178/7177 [==============================] - 120s 17ms/step - loss: 1.2918 - acc: 0.5160 - val_loss: 1.1771 - val_acc: 0.5596\n",
            "Epoch 34/50\n",
            "7177/7177 [============================>.] - ETA: 0s - loss: 1.2834 - acc: 0.5193Epoch 1/50\n",
            "7178/7177 [==============================] - 120s 17ms/step - loss: 1.2834 - acc: 0.5193 - val_loss: 1.1590 - val_acc: 0.5647\n",
            "Epoch 35/50\n",
            "7175/7177 [============================>.] - ETA: 0s - loss: 1.2816 - acc: 0.5204Epoch 1/50\n",
            "7178/7177 [==============================] - 130s 18ms/step - loss: 1.2816 - acc: 0.5204 - val_loss: 1.1678 - val_acc: 0.5677\n",
            "Epoch 36/50\n",
            "7176/7177 [============================>.] - ETA: 0s - loss: 1.2820 - acc: 0.5206Epoch 1/50\n",
            "7178/7177 [==============================] - 127s 18ms/step - loss: 1.2821 - acc: 0.5206 - val_loss: 1.1862 - val_acc: 0.5600\n",
            "Epoch 37/50\n",
            "7174/7177 [============================>.] - ETA: 0s - loss: 1.2753 - acc: 0.5225Epoch 1/50\n",
            "7178/7177 [==============================] - 119s 17ms/step - loss: 1.2753 - acc: 0.5225 - val_loss: 1.1597 - val_acc: 0.5623\n",
            "Epoch 38/50\n",
            "7175/7177 [============================>.] - ETA: 0s - loss: 1.2760 - acc: 0.5230Epoch 1/50\n",
            "7178/7177 [==============================] - 128s 18ms/step - loss: 1.2760 - acc: 0.5230 - val_loss: 1.1506 - val_acc: 0.5731\n",
            "Epoch 39/50\n",
            "7177/7177 [============================>.] - ETA: 0s - loss: 1.2695 - acc: 0.5258Epoch 1/50\n",
            "7178/7177 [==============================] - 126s 18ms/step - loss: 1.2695 - acc: 0.5258 - val_loss: 1.1504 - val_acc: 0.5680\n",
            "Epoch 40/50\n",
            "7177/7177 [============================>.] - ETA: 0s - loss: 1.2673 - acc: 0.5257Epoch 1/50\n",
            "7178/7177 [==============================] - 120s 17ms/step - loss: 1.2673 - acc: 0.5257 - val_loss: 1.1501 - val_acc: 0.5684\n",
            "Epoch 41/50\n",
            "7175/7177 [============================>.] - ETA: 0s - loss: 1.2646 - acc: 0.5268Epoch 1/50\n",
            "7178/7177 [==============================] - 124s 17ms/step - loss: 1.2646 - acc: 0.5268 - val_loss: 1.1465 - val_acc: 0.5735\n",
            "Epoch 42/50\n",
            "7177/7177 [============================>.] - ETA: 0s - loss: 1.2661 - acc: 0.5285Epoch 1/50\n",
            "7178/7177 [==============================] - 125s 17ms/step - loss: 1.2661 - acc: 0.5285 - val_loss: 1.1409 - val_acc: 0.5694\n",
            "Epoch 43/50\n",
            "7175/7177 [============================>.] - ETA: 0s - loss: 1.2603 - acc: 0.5296Epoch 1/50\n",
            "7178/7177 [==============================] - 121s 17ms/step - loss: 1.2602 - acc: 0.5296 - val_loss: 1.1359 - val_acc: 0.5754\n",
            "Epoch 44/50\n",
            "7176/7177 [============================>.] - ETA: 0s - loss: 1.2581 - acc: 0.5300Epoch 1/50\n",
            "7178/7177 [==============================] - 122s 17ms/step - loss: 1.2581 - acc: 0.5300 - val_loss: 1.1302 - val_acc: 0.5838\n",
            "Epoch 45/50\n",
            "7176/7177 [============================>.] - ETA: 0s - loss: 1.2572 - acc: 0.5311Epoch 1/50\n",
            "7178/7177 [==============================] - 124s 17ms/step - loss: 1.2573 - acc: 0.5311 - val_loss: 1.1334 - val_acc: 0.5785\n",
            "Epoch 46/50\n",
            "7177/7177 [============================>.] - ETA: 0s - loss: 1.2522 - acc: 0.5319Epoch 1/50\n",
            "7178/7177 [==============================] - 121s 17ms/step - loss: 1.2522 - acc: 0.5319 - val_loss: 1.1300 - val_acc: 0.5735\n",
            "Epoch 47/50\n",
            "7175/7177 [============================>.] - ETA: 0s - loss: 1.2496 - acc: 0.5340Epoch 1/50\n",
            "7178/7177 [==============================] - 120s 17ms/step - loss: 1.2495 - acc: 0.5340 - val_loss: 1.1265 - val_acc: 0.5768\n",
            "Epoch 48/50\n",
            "7174/7177 [============================>.] - ETA: 0s - loss: 1.2512 - acc: 0.5335Epoch 1/50\n",
            "7178/7177 [==============================] - 128s 18ms/step - loss: 1.2513 - acc: 0.5335 - val_loss: 1.1134 - val_acc: 0.5808\n",
            "Epoch 49/50\n",
            "7174/7177 [============================>.] - ETA: 0s - loss: 1.2458 - acc: 0.5345Epoch 1/50\n",
            "7178/7177 [==============================] - 130s 18ms/step - loss: 1.2457 - acc: 0.5346 - val_loss: 1.1208 - val_acc: 0.5794\n",
            "Epoch 50/50\n",
            "7176/7177 [============================>.] - ETA: 0s - loss: 1.2466 - acc: 0.5349Epoch 1/50\n",
            "7178/7177 [==============================] - 127s 18ms/step - loss: 1.2466 - acc: 0.5349 - val_loss: 1.1191 - val_acc: 0.5878\n"
          ],
          "name": "stdout"
        },
        {
          "output_type": "execute_result",
          "data": {
            "text/plain": [
              "<tensorflow.python.keras.callbacks.History at 0x7f3ef88330b8>"
            ]
          },
          "metadata": {
            "tags": []
          },
          "execution_count": 9
        }
      ]
    },
    {
      "cell_type": "code",
      "metadata": {
        "id": "Ndvq2qYv66Ot",
        "colab_type": "code",
        "colab": {}
      },
      "source": [
        "model.save('emotion.h5')"
      ],
      "execution_count": 0,
      "outputs": []
    }
  ]
}
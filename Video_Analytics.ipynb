{
  "nbformat": 4,
  "nbformat_minor": 0,
  "metadata": {
    "colab": {
      "name": "Video Analytics.ipynb",
      "provenance": [],
      "collapsed_sections": [],
      "authorship_tag": "ABX9TyM4Yss2jD/pXc+wlWpXezyr",
      "include_colab_link": true
    },
    "kernelspec": {
      "name": "python3",
      "display_name": "Python 3"
    },
    "accelerator": "GPU"
  },
  "cells": [
    {
      "cell_type": "markdown",
      "metadata": {
        "id": "view-in-github",
        "colab_type": "text"
      },
      "source": [
        "<a href=\"https://colab.research.google.com/github/aknakshay/VideoAnalytics/blob/master/Video_Analytics.ipynb\" target=\"_parent\"><img src=\"https://colab.research.google.com/assets/colab-badge.svg\" alt=\"Open In Colab\"/></a>"
      ]
    },
    {
      "cell_type": "markdown",
      "metadata": {
        "id": "c-2EmtZZ1T4X",
        "colab_type": "text"
      },
      "source": [
        "### Environment Preparation"
      ]
    },
    {
      "cell_type": "code",
      "metadata": {
        "id": "xr-QypXkX0F1",
        "colab_type": "code",
        "cellView": "form",
        "colab": {}
      },
      "source": [
        "#@title\n",
        "%%capture\n",
        "\n",
        "!pip install SpeechRecognition\n",
        "!pip install mtcnn\n",
        "#!sudo apt-get install -y build-essential swig\n",
        "#!sudo pip install pocketsphinx\n",
        "#!pip install moviepy\n",
        "#!sudo apt-get install portaudio19-dev\n",
        "#!sudo apt-get install python-pyaudio python3-pyaudio\n"
      ],
      "execution_count": 0,
      "outputs": []
    },
    {
      "cell_type": "markdown",
      "metadata": {
        "id": "VOe7re471Y43",
        "colab_type": "text"
      },
      "source": [
        "### Face Alignment Code"
      ]
    },
    {
      "cell_type": "code",
      "metadata": {
        "id": "cheDqCwVNyDY",
        "colab_type": "code",
        "cellView": "form",
        "colab": {}
      },
      "source": [
        "#@title\n",
        "%%capture\n",
        "\n",
        "import numpy as np\n",
        "import cv2\n",
        "\n",
        "\n",
        "### https://www.pyimagesearch.com/2017/05/22/face-alignment-with-opencv-and-python/\n",
        "\n",
        "class FaceAligner:\n",
        "    def __init__(self, predictor, desiredLeftEye=(0.35, 0.35),\n",
        "        desiredFaceWidth=224, desiredFaceHeight=224):\n",
        "        # store the facial landmark predictor, desired output left\n",
        "        # eye position, and desired output face width + height\n",
        "        self.predictor = predictor\n",
        "        self.desiredLeftEye = desiredLeftEye\n",
        "        self.desiredFaceWidth = desiredFaceWidth\n",
        "        self.desiredFaceHeight = desiredFaceHeight\n",
        "\n",
        "        # if the desired face height is None, set it to be the\n",
        "        # desired face width (normal behavior)\n",
        "        if self.desiredFaceHeight is None:\n",
        "            self.desiredFaceHeight = self.desiredFaceWidth\n",
        "\n",
        "    def align(self, image, keypoints):\n",
        "        # convert the landmark (x, y)-coordinates to a NumPy array\n",
        "        #shape = self.predictor(gray, rect)\n",
        "        #shape = shape_to_np(shape)\n",
        "\n",
        "        # extract the left and right eye (x, y)-coordinates\n",
        "        #(lStart, lEnd) = FACIAL_LANDMARKS_IDXS[\"left_eye\"]\n",
        "        #(rStart, rEnd) = FACIAL_LANDMARKS_IDXS[\"right_eye\"]\n",
        "        #leftEyePts = shape[lStart:lEnd]\n",
        "        #rightEyePts = shape[rStart:rEnd]\n",
        "\n",
        "        # compute the center of mass for each eye\n",
        "        #leftEyeCenter = leftEyePts.mean(axis=0).astype(\"int\")\n",
        "        #rightEyeCenter = rightEyePts.mean(axis=0).astype(\"int\")\n",
        "        leftEyeCenter = keypoints['left_eye']\n",
        "        rightEyeCenter = keypoints['right_eye']\n",
        "\n",
        "        # compute the angle between the eye centroids\n",
        "        dY = rightEyeCenter[1] - leftEyeCenter[1]\n",
        "        dX = rightEyeCenter[0] - leftEyeCenter[0]\n",
        "        angle = np.degrees(np.arctan2(dY, dX)) #- 180\n",
        "\n",
        "        # compute the desired right eye x-coordinate based on the\n",
        "        # desired x-coordinate of the left eye\n",
        "        desiredRightEyeX = 1.0 - self.desiredLeftEye[0]\n",
        "\n",
        "        # determine the scale of the new resulting image by taking\n",
        "        # the ratio of the distance between eyes in the *current*\n",
        "        # image to the ratio of distance between eyes in the\n",
        "        # *desired* image\n",
        "        dist = np.sqrt((dX ** 2) + (dY ** 2))\n",
        "        desiredDist = (desiredRightEyeX - self.desiredLeftEye[0])\n",
        "        desiredDist *= self.desiredFaceWidth\n",
        "        scale = desiredDist / dist\n",
        "\n",
        "        # compute center (x, y)-coordinates (i.e., the median point)\n",
        "        # between the two eyes in the input image\n",
        "        eyesCenter = ((leftEyeCenter[0] + rightEyeCenter[0]) // 2,\n",
        "            (leftEyeCenter[1] + rightEyeCenter[1]) // 2)\n",
        "\n",
        "        # grab the rotation matrix for rotating and scaling the face\n",
        "        M = cv2.getRotationMatrix2D(eyesCenter, angle, scale)\n",
        "\n",
        "        # update the translation component of the matrix\n",
        "        tX = self.desiredFaceWidth * 0.5\n",
        "        tY = self.desiredFaceHeight * self.desiredLeftEye[1]\n",
        "        M[0, 2] += (tX - eyesCenter[0])\n",
        "        M[1, 2] += (tY - eyesCenter[1])\n",
        "\n",
        "        # compute center (x, y)-coordinates (i.e., the median point)\n",
        "        # between the two eyes in the input image\n",
        "        eyesCenter = ((leftEyeCenter[0] + rightEyeCenter[0]) // 2,\n",
        "            (leftEyeCenter[1] + rightEyeCenter[1]) // 2)\n",
        " \n",
        "        # grab the rotation matrix for rotating and scaling the face\n",
        "        M = cv2.getRotationMatrix2D(eyesCenter, angle, scale)\n",
        " \n",
        "        # update the translation component of the matrix\n",
        "        tX = self.desiredFaceWidth * 0.5\n",
        "        tY = self.desiredFaceHeight * self.desiredLeftEye[1]\n",
        "        M[0, 2] += (tX - eyesCenter[0])\n",
        "        M[1, 2] += (tY - eyesCenter[1])\n",
        "        \n",
        "        # apply the affine transformation\n",
        "        (w, h) = (self.desiredFaceWidth, self.desiredFaceHeight)\n",
        "        output = cv2.warpAffine(image, M, (w, h),\n",
        "            flags=cv2.INTER_CUBIC)\n",
        " \n",
        "        # return the aligned face\n",
        "        return output"
      ],
      "execution_count": 0,
      "outputs": []
    },
    {
      "cell_type": "markdown",
      "metadata": {
        "id": "Og48qrf0SmAb",
        "colab_type": "text"
      },
      "source": [
        "# Speech Analytics\n",
        "\n",
        "##### Upload a video using the button below"
      ]
    },
    {
      "cell_type": "code",
      "metadata": {
        "id": "Kn9e8ykYkuUr",
        "colab_type": "code",
        "outputId": "e9671517-e032-4064-ef9e-ecfe952d851f",
        "colab": {
          "resources": {
            "http://localhost:8080/nbextensions/google.colab/files.js": {
              "data": "Ly8gQ29weXJpZ2h0IDIwMTcgR29vZ2xlIExMQwovLwovLyBMaWNlbnNlZCB1bmRlciB0aGUgQXBhY2hlIExpY2Vuc2UsIFZlcnNpb24gMi4wICh0aGUgIkxpY2Vuc2UiKTsKLy8geW91IG1heSBub3QgdXNlIHRoaXMgZmlsZSBleGNlcHQgaW4gY29tcGxpYW5jZSB3aXRoIHRoZSBMaWNlbnNlLgovLyBZb3UgbWF5IG9idGFpbiBhIGNvcHkgb2YgdGhlIExpY2Vuc2UgYXQKLy8KLy8gICAgICBodHRwOi8vd3d3LmFwYWNoZS5vcmcvbGljZW5zZXMvTElDRU5TRS0yLjAKLy8KLy8gVW5sZXNzIHJlcXVpcmVkIGJ5IGFwcGxpY2FibGUgbGF3IG9yIGFncmVlZCB0byBpbiB3cml0aW5nLCBzb2Z0d2FyZQovLyBkaXN0cmlidXRlZCB1bmRlciB0aGUgTGljZW5zZSBpcyBkaXN0cmlidXRlZCBvbiBhbiAiQVMgSVMiIEJBU0lTLAovLyBXSVRIT1VUIFdBUlJBTlRJRVMgT1IgQ09ORElUSU9OUyBPRiBBTlkgS0lORCwgZWl0aGVyIGV4cHJlc3Mgb3IgaW1wbGllZC4KLy8gU2VlIHRoZSBMaWNlbnNlIGZvciB0aGUgc3BlY2lmaWMgbGFuZ3VhZ2UgZ292ZXJuaW5nIHBlcm1pc3Npb25zIGFuZAovLyBsaW1pdGF0aW9ucyB1bmRlciB0aGUgTGljZW5zZS4KCi8qKgogKiBAZmlsZW92ZXJ2aWV3IEhlbHBlcnMgZm9yIGdvb2dsZS5jb2xhYiBQeXRob24gbW9kdWxlLgogKi8KKGZ1bmN0aW9uKHNjb3BlKSB7CmZ1bmN0aW9uIHNwYW4odGV4dCwgc3R5bGVBdHRyaWJ1dGVzID0ge30pIHsKICBjb25zdCBlbGVtZW50ID0gZG9jdW1lbnQuY3JlYXRlRWxlbWVudCgnc3BhbicpOwogIGVsZW1lbnQudGV4dENvbnRlbnQgPSB0ZXh0OwogIGZvciAoY29uc3Qga2V5IG9mIE9iamVjdC5rZXlzKHN0eWxlQXR0cmlidXRlcykpIHsKICAgIGVsZW1lbnQuc3R5bGVba2V5XSA9IHN0eWxlQXR0cmlidXRlc1trZXldOwogIH0KICByZXR1cm4gZWxlbWVudDsKfQoKLy8gTWF4IG51bWJlciBvZiBieXRlcyB3aGljaCB3aWxsIGJlIHVwbG9hZGVkIGF0IGEgdGltZS4KY29uc3QgTUFYX1BBWUxPQURfU0laRSA9IDEwMCAqIDEwMjQ7Ci8vIE1heCBhbW91bnQgb2YgdGltZSB0byBibG9jayB3YWl0aW5nIGZvciB0aGUgdXNlci4KY29uc3QgRklMRV9DSEFOR0VfVElNRU9VVF9NUyA9IDMwICogMTAwMDsKCmZ1bmN0aW9uIF91cGxvYWRGaWxlcyhpbnB1dElkLCBvdXRwdXRJZCkgewogIGNvbnN0IHN0ZXBzID0gdXBsb2FkRmlsZXNTdGVwKGlucHV0SWQsIG91dHB1dElkKTsKICBjb25zdCBvdXRwdXRFbGVtZW50ID0gZG9jdW1lbnQuZ2V0RWxlbWVudEJ5SWQob3V0cHV0SWQpOwogIC8vIENhY2hlIHN0ZXBzIG9uIHRoZSBvdXRwdXRFbGVtZW50IHRvIG1ha2UgaXQgYXZhaWxhYmxlIGZvciB0aGUgbmV4dCBjYWxsCiAgLy8gdG8gdXBsb2FkRmlsZXNDb250aW51ZSBmcm9tIFB5dGhvbi4KICBvdXRwdXRFbGVtZW50LnN0ZXBzID0gc3RlcHM7CgogIHJldHVybiBfdXBsb2FkRmlsZXNDb250aW51ZShvdXRwdXRJZCk7Cn0KCi8vIFRoaXMgaXMgcm91Z2hseSBhbiBhc3luYyBnZW5lcmF0b3IgKG5vdCBzdXBwb3J0ZWQgaW4gdGhlIGJyb3dzZXIgeWV0KSwKLy8gd2hlcmUgdGhlcmUgYXJlIG11bHRpcGxlIGFzeW5jaHJvbm91cyBzdGVwcyBhbmQgdGhlIFB5dGhvbiBzaWRlIGlzIGdvaW5nCi8vIHRvIHBvbGwgZm9yIGNvbXBsZXRpb24gb2YgZWFjaCBzdGVwLgovLyBUaGlzIHVzZXMgYSBQcm9taXNlIHRvIGJsb2NrIHRoZSBweXRob24gc2lkZSBvbiBjb21wbGV0aW9uIG9mIGVhY2ggc3RlcCwKLy8gdGhlbiBwYXNzZXMgdGhlIHJlc3VsdCBvZiB0aGUgcHJldmlvdXMgc3RlcCBhcyB0aGUgaW5wdXQgdG8gdGhlIG5leHQgc3RlcC4KZnVuY3Rpb24gX3VwbG9hZEZpbGVzQ29udGludWUob3V0cHV0SWQpIHsKICBjb25zdCBvdXRwdXRFbGVtZW50ID0gZG9jdW1lbnQuZ2V0RWxlbWVudEJ5SWQob3V0cHV0SWQpOwogIGNvbnN0IHN0ZXBzID0gb3V0cHV0RWxlbWVudC5zdGVwczsKCiAgY29uc3QgbmV4dCA9IHN0ZXBzLm5leHQob3V0cHV0RWxlbWVudC5sYXN0UHJvbWlzZVZhbHVlKTsKICByZXR1cm4gUHJvbWlzZS5yZXNvbHZlKG5leHQudmFsdWUucHJvbWlzZSkudGhlbigodmFsdWUpID0+IHsKICAgIC8vIENhY2hlIHRoZSBsYXN0IHByb21pc2UgdmFsdWUgdG8gbWFrZSBpdCBhdmFpbGFibGUgdG8gdGhlIG5leHQKICAgIC8vIHN0ZXAgb2YgdGhlIGdlbmVyYXRvci4KICAgIG91dHB1dEVsZW1lbnQubGFzdFByb21pc2VWYWx1ZSA9IHZhbHVlOwogICAgcmV0dXJuIG5leHQudmFsdWUucmVzcG9uc2U7CiAgfSk7Cn0KCi8qKgogKiBHZW5lcmF0b3IgZnVuY3Rpb24gd2hpY2ggaXMgY2FsbGVkIGJldHdlZW4gZWFjaCBhc3luYyBzdGVwIG9mIHRoZSB1cGxvYWQKICogcHJvY2Vzcy4KICogQHBhcmFtIHtzdHJpbmd9IGlucHV0SWQgRWxlbWVudCBJRCBvZiB0aGUgaW5wdXQgZmlsZSBwaWNrZXIgZWxlbWVudC4KICogQHBhcmFtIHtzdHJpbmd9IG91dHB1dElkIEVsZW1lbnQgSUQgb2YgdGhlIG91dHB1dCBkaXNwbGF5LgogKiBAcmV0dXJuIHshSXRlcmFibGU8IU9iamVjdD59IEl0ZXJhYmxlIG9mIG5leHQgc3RlcHMuCiAqLwpmdW5jdGlvbiogdXBsb2FkRmlsZXNTdGVwKGlucHV0SWQsIG91dHB1dElkKSB7CiAgY29uc3QgaW5wdXRFbGVtZW50ID0gZG9jdW1lbnQuZ2V0RWxlbWVudEJ5SWQoaW5wdXRJZCk7CiAgaW5wdXRFbGVtZW50LmRpc2FibGVkID0gZmFsc2U7CgogIGNvbnN0IG91dHB1dEVsZW1lbnQgPSBkb2N1bWVudC5nZXRFbGVtZW50QnlJZChvdXRwdXRJZCk7CiAgb3V0cHV0RWxlbWVudC5pbm5lckhUTUwgPSAnJzsKCiAgY29uc3QgcGlja2VkUHJvbWlzZSA9IG5ldyBQcm9taXNlKChyZXNvbHZlKSA9PiB7CiAgICBpbnB1dEVsZW1lbnQuYWRkRXZlbnRMaXN0ZW5lcignY2hhbmdlJywgKGUpID0+IHsKICAgICAgcmVzb2x2ZShlLnRhcmdldC5maWxlcyk7CiAgICB9KTsKICB9KTsKCiAgY29uc3QgY2FuY2VsID0gZG9jdW1lbnQuY3JlYXRlRWxlbWVudCgnYnV0dG9uJyk7CiAgaW5wdXRFbGVtZW50LnBhcmVudEVsZW1lbnQuYXBwZW5kQ2hpbGQoY2FuY2VsKTsKICBjYW5jZWwudGV4dENvbnRlbnQgPSAnQ2FuY2VsIHVwbG9hZCc7CiAgY29uc3QgY2FuY2VsUHJvbWlzZSA9IG5ldyBQcm9taXNlKChyZXNvbHZlKSA9PiB7CiAgICBjYW5jZWwub25jbGljayA9ICgpID0+IHsKICAgICAgcmVzb2x2ZShudWxsKTsKICAgIH07CiAgfSk7CgogIC8vIENhbmNlbCB1cGxvYWQgaWYgdXNlciBoYXNuJ3QgcGlja2VkIGFueXRoaW5nIGluIHRpbWVvdXQuCiAgY29uc3QgdGltZW91dFByb21pc2UgPSBuZXcgUHJvbWlzZSgocmVzb2x2ZSkgPT4gewogICAgc2V0VGltZW91dCgoKSA9PiB7CiAgICAgIHJlc29sdmUobnVsbCk7CiAgICB9LCBGSUxFX0NIQU5HRV9USU1FT1VUX01TKTsKICB9KTsKCiAgLy8gV2FpdCBmb3IgdGhlIHVzZXIgdG8gcGljayB0aGUgZmlsZXMuCiAgY29uc3QgZmlsZXMgPSB5aWVsZCB7CiAgICBwcm9taXNlOiBQcm9taXNlLnJhY2UoW3BpY2tlZFByb21pc2UsIHRpbWVvdXRQcm9taXNlLCBjYW5jZWxQcm9taXNlXSksCiAgICByZXNwb25zZTogewogICAgICBhY3Rpb246ICdzdGFydGluZycsCiAgICB9CiAgfTsKCiAgaWYgKCFmaWxlcykgewogICAgcmV0dXJuIHsKICAgICAgcmVzcG9uc2U6IHsKICAgICAgICBhY3Rpb246ICdjb21wbGV0ZScsCiAgICAgIH0KICAgIH07CiAgfQoKICBjYW5jZWwucmVtb3ZlKCk7CgogIC8vIERpc2FibGUgdGhlIGlucHV0IGVsZW1lbnQgc2luY2UgZnVydGhlciBwaWNrcyBhcmUgbm90IGFsbG93ZWQuCiAgaW5wdXRFbGVtZW50LmRpc2FibGVkID0gdHJ1ZTsKCiAgZm9yIChjb25zdCBmaWxlIG9mIGZpbGVzKSB7CiAgICBjb25zdCBsaSA9IGRvY3VtZW50LmNyZWF0ZUVsZW1lbnQoJ2xpJyk7CiAgICBsaS5hcHBlbmQoc3BhbihmaWxlLm5hbWUsIHtmb250V2VpZ2h0OiAnYm9sZCd9KSk7CiAgICBsaS5hcHBlbmQoc3BhbigKICAgICAgICBgKCR7ZmlsZS50eXBlIHx8ICduL2EnfSkgLSAke2ZpbGUuc2l6ZX0gYnl0ZXMsIGAgKwogICAgICAgIGBsYXN0IG1vZGlmaWVkOiAkewogICAgICAgICAgICBmaWxlLmxhc3RNb2RpZmllZERhdGUgPyBmaWxlLmxhc3RNb2RpZmllZERhdGUudG9Mb2NhbGVEYXRlU3RyaW5nKCkgOgogICAgICAgICAgICAgICAgICAgICAgICAgICAgICAgICAgICAnbi9hJ30gLSBgKSk7CiAgICBjb25zdCBwZXJjZW50ID0gc3BhbignMCUgZG9uZScpOwogICAgbGkuYXBwZW5kQ2hpbGQocGVyY2VudCk7CgogICAgb3V0cHV0RWxlbWVudC5hcHBlbmRDaGlsZChsaSk7CgogICAgY29uc3QgZmlsZURhdGFQcm9taXNlID0gbmV3IFByb21pc2UoKHJlc29sdmUpID0+IHsKICAgICAgY29uc3QgcmVhZGVyID0gbmV3IEZpbGVSZWFkZXIoKTsKICAgICAgcmVhZGVyLm9ubG9hZCA9IChlKSA9PiB7CiAgICAgICAgcmVzb2x2ZShlLnRhcmdldC5yZXN1bHQpOwogICAgICB9OwogICAgICByZWFkZXIucmVhZEFzQXJyYXlCdWZmZXIoZmlsZSk7CiAgICB9KTsKICAgIC8vIFdhaXQgZm9yIHRoZSBkYXRhIHRvIGJlIHJlYWR5LgogICAgbGV0IGZpbGVEYXRhID0geWllbGQgewogICAgICBwcm9taXNlOiBmaWxlRGF0YVByb21pc2UsCiAgICAgIHJlc3BvbnNlOiB7CiAgICAgICAgYWN0aW9uOiAnY29udGludWUnLAogICAgICB9CiAgICB9OwoKICAgIC8vIFVzZSBhIGNodW5rZWQgc2VuZGluZyB0byBhdm9pZCBtZXNzYWdlIHNpemUgbGltaXRzLiBTZWUgYi82MjExNTY2MC4KICAgIGxldCBwb3NpdGlvbiA9IDA7CiAgICB3aGlsZSAocG9zaXRpb24gPCBmaWxlRGF0YS5ieXRlTGVuZ3RoKSB7CiAgICAgIGNvbnN0IGxlbmd0aCA9IE1hdGgubWluKGZpbGVEYXRhLmJ5dGVMZW5ndGggLSBwb3NpdGlvbiwgTUFYX1BBWUxPQURfU0laRSk7CiAgICAgIGNvbnN0IGNodW5rID0gbmV3IFVpbnQ4QXJyYXkoZmlsZURhdGEsIHBvc2l0aW9uLCBsZW5ndGgpOwogICAgICBwb3NpdGlvbiArPSBsZW5ndGg7CgogICAgICBjb25zdCBiYXNlNjQgPSBidG9hKFN0cmluZy5mcm9tQ2hhckNvZGUuYXBwbHkobnVsbCwgY2h1bmspKTsKICAgICAgeWllbGQgewogICAgICAgIHJlc3BvbnNlOiB7CiAgICAgICAgICBhY3Rpb246ICdhcHBlbmQnLAogICAgICAgICAgZmlsZTogZmlsZS5uYW1lLAogICAgICAgICAgZGF0YTogYmFzZTY0LAogICAgICAgIH0sCiAgICAgIH07CiAgICAgIHBlcmNlbnQudGV4dENvbnRlbnQgPQogICAgICAgICAgYCR7TWF0aC5yb3VuZCgocG9zaXRpb24gLyBmaWxlRGF0YS5ieXRlTGVuZ3RoKSAqIDEwMCl9JSBkb25lYDsKICAgIH0KICB9CgogIC8vIEFsbCBkb25lLgogIHlpZWxkIHsKICAgIHJlc3BvbnNlOiB7CiAgICAgIGFjdGlvbjogJ2NvbXBsZXRlJywKICAgIH0KICB9Owp9CgpzY29wZS5nb29nbGUgPSBzY29wZS5nb29nbGUgfHwge307CnNjb3BlLmdvb2dsZS5jb2xhYiA9IHNjb3BlLmdvb2dsZS5jb2xhYiB8fCB7fTsKc2NvcGUuZ29vZ2xlLmNvbGFiLl9maWxlcyA9IHsKICBfdXBsb2FkRmlsZXMsCiAgX3VwbG9hZEZpbGVzQ29udGludWUsCn07Cn0pKHNlbGYpOwo=",
              "ok": true,
              "headers": [
                [
                  "content-type",
                  "application/javascript"
                ]
              ],
              "status": 200,
              "status_text": ""
            }
          },
          "base_uri": "https://localhost:8080/",
          "height": 75
        }
      },
      "source": [
        "from google.colab import files\n",
        "uploaded = files.upload()\n",
        "videoLocation = list(uploaded.keys())[0]"
      ],
      "execution_count": 3,
      "outputs": [
        {
          "output_type": "display_data",
          "data": {
            "text/html": [
              "\n",
              "     <input type=\"file\" id=\"files-b6bbacbb-7316-4904-993b-b0ade3eef286\" name=\"files[]\" multiple disabled />\n",
              "     <output id=\"result-b6bbacbb-7316-4904-993b-b0ade3eef286\">\n",
              "      Upload widget is only available when the cell has been executed in the\n",
              "      current browser session. Please rerun this cell to enable.\n",
              "      </output>\n",
              "      <script src=\"/nbextensions/google.colab/files.js\"></script> "
            ],
            "text/plain": [
              "<IPython.core.display.HTML object>"
            ]
          },
          "metadata": {
            "tags": []
          }
        },
        {
          "output_type": "stream",
          "text": [
            "Saving videoplayback (1).mp4 to videoplayback (1).mp4\n"
          ],
          "name": "stdout"
        }
      ]
    },
    {
      "cell_type": "code",
      "metadata": {
        "id": "c6GC5-2oMy1e",
        "colab_type": "code",
        "cellView": "form",
        "colab": {}
      },
      "source": [
        "#@title\n",
        "%%capture\n",
        "\n",
        "from moviepy.editor import *\n",
        "import speech_recognition as sr\n",
        "from textblob import TextBlob\n",
        "from skimage.util import montage\n",
        "import matplotlib.pyplot as plt\n"
      ],
      "execution_count": 0,
      "outputs": []
    },
    {
      "cell_type": "code",
      "metadata": {
        "id": "tL9v8g40FJXj",
        "colab_type": "code",
        "cellView": "form",
        "colab": {}
      },
      "source": [
        "#@title\n",
        "%%capture\n",
        "\n",
        "r = sr.Recognizer()\n",
        "text = \"\"\n",
        "video = VideoFileClip(videoLocation)\n",
        "duration = video.duration\n",
        "splitTime = 20\n",
        "\n",
        "for i in range(0,int(duration),splitTime):\n",
        "  try:\n",
        "    if i + splitTime > duration:\n",
        "      chunk = video.subclip(i,duration)\n",
        "    else:\n",
        "      chunk = video.subclip(i,i+splitTime)\n",
        "    chunkAudio = chunk.audio\n",
        "    chunkAudio.write_audiofile('tmp.wav')\n",
        "    with sr.AudioFile('tmp.wav') as source:\n",
        "      audio = r.record(source)  #\n",
        "    text = text + \" \" +  r.recognize_google(audio)\n",
        "  except Exception as e:\n",
        "    print(e)\n",
        "\n",
        "\n",
        "wiki = TextBlob(text)\n",
        "sentimentPolarity = wiki.sentiment.polarity\n",
        "setimentSubjectivity = wiki.sentiment.subjectivity\n",
        "\n"
      ],
      "execution_count": 0,
      "outputs": []
    },
    {
      "cell_type": "markdown",
      "metadata": {
        "id": "p_MykWg0UKEe",
        "colab_type": "text"
      },
      "source": [
        "# Image Analytics"
      ]
    },
    {
      "cell_type": "code",
      "metadata": {
        "id": "dTK5nfkjXZ3f",
        "colab_type": "code",
        "cellView": "form",
        "colab": {}
      },
      "source": [
        "#@title\n",
        "%%capture\n",
        "\n",
        "import cv2\n",
        "import numpy as np\n",
        "import pandas as pd\n",
        "from mtcnn.mtcnn import MTCNN\n"
      ],
      "execution_count": 0,
      "outputs": []
    },
    {
      "cell_type": "markdown",
      "metadata": {
        "id": "DzYZTkaI1pr8",
        "colab_type": "text"
      },
      "source": [
        "### Code for Extraction of Face from Image and Extraction of Image Frames from Video"
      ]
    },
    {
      "cell_type": "code",
      "metadata": {
        "id": "mduMeJHlULgQ",
        "colab_type": "code",
        "cellView": "form",
        "colab": {}
      },
      "source": [
        "#@title\n",
        "%%capture\n",
        "\n",
        "detector = MTCNN()\n",
        "fa = FaceAligner(detector, desiredFaceWidth=48,desiredFaceHeight=48)\n",
        "\n",
        "def preProcess(image):\n",
        "  rects = detector.detect_faces(image)\n",
        "  if len(rects) == 1  :\n",
        "    faceAligned = fa.align(image, rects[0]['keypoints'])\n",
        "    return 1,faceAligned\n",
        "  else:\n",
        "    return 0\n",
        "\n",
        "def extractImages(pathIn):\n",
        "    data = []\n",
        "    count = 0\n",
        "    vidcap = cv2.VideoCapture(pathIn)\n",
        "    success,image = vidcap.read()\n",
        "    success = True\n",
        "    while success:\n",
        "        vidcap.set(cv2.CAP_PROP_POS_MSEC,(count*2000))    # added this line \n",
        "        success,image = vidcap.read()\n",
        "        try:\n",
        "            status, image = preProcess(image)\n",
        "            gray = cv2.cvtColor(image, cv2.COLOR_BGR2GRAY)\n",
        "            resized = cv2.resize(gray,(48,48))\n",
        "        #print ('Read a new frame: ', success)\n",
        "            data.append(resized)\n",
        "        except Exception as e:\n",
        "            print(\"Error\")\n",
        "        #cv2.imwrite( pathOut + \"\\\\frame%d.jpg\" % count, image)     # save frame as JPEG file\n",
        "        count = count + 1\n",
        "    ar = np.array(data)\n",
        "    #ar = ar / 255\n",
        "    return ar"
      ],
      "execution_count": 0,
      "outputs": []
    },
    {
      "cell_type": "code",
      "metadata": {
        "id": "cOQ15iQMUP19",
        "colab_type": "code",
        "cellView": "form",
        "colab": {}
      },
      "source": [
        "#@title\n",
        "%%capture\n",
        "data = extractImages(videoLocation)"
      ],
      "execution_count": 0,
      "outputs": []
    },
    {
      "cell_type": "markdown",
      "metadata": {
        "id": "qW0doZSr15z3",
        "colab_type": "text"
      },
      "source": [
        "### Loading Model"
      ]
    },
    {
      "cell_type": "code",
      "metadata": {
        "id": "-YKWOrKemTut",
        "colab_type": "code",
        "cellView": "form",
        "colab": {}
      },
      "source": [
        "#@title\n",
        "%%capture\n",
        "\n",
        "!wget https://github.com/aknakshay/VideoAnalytics/raw/master/emotion.h5"
      ],
      "execution_count": 0,
      "outputs": []
    },
    {
      "cell_type": "code",
      "metadata": {
        "id": "a1GMRPJLUX2V",
        "colab_type": "code",
        "cellView": "form",
        "colab": {}
      },
      "source": [
        "#@title\n",
        "%%capture\n",
        "import tensorflow as tf\n",
        "model = tf.keras.models.load_model('emotion.h5')\n",
        "l = list(data.shape)\n",
        "l.append(-1)\n",
        "results = model.predict(data.reshape(tuple(l)))\n",
        "res = pd.DataFrame(results)\n",
        "res.columns = [\"Angry\", \"Disgust\", \"Fear\", \"Happy\", \"Sad\", \"Surprise\", \"Neutral\"]"
      ],
      "execution_count": 0,
      "outputs": []
    },
    {
      "cell_type": "code",
      "metadata": {
        "id": "S3IlvsC-UkfD",
        "colab_type": "code",
        "cellView": "form",
        "colab": {}
      },
      "source": [
        "#@title\n",
        "emotionPerc = 100 * res.sum() / res.sum().sum()\n",
        "emotionPerc = emotionPerc.apply(lambda x : round(x,2))\n",
        "emotionPerc.sort_values(ascending=False,inplace=True)"
      ],
      "execution_count": 0,
      "outputs": []
    },
    {
      "cell_type": "markdown",
      "metadata": {
        "id": "BX_gQV4f2CPm",
        "colab_type": "text"
      },
      "source": [
        "# Result Summarisation"
      ]
    },
    {
      "cell_type": "code",
      "metadata": {
        "id": "lzgV0sK7ax9J",
        "colab_type": "code",
        "cellView": "form",
        "colab": {
          "base_uri": "https://localhost:8080/",
          "height": 281
        },
        "outputId": "0180fbb4-4a59-4f4c-e552-4026e70cc468"
      },
      "source": [
        "#@title\n",
        "plt.imshow(montage(data, multichannel=False,rescale_intensity=True),interpolation='nearest')\n",
        "plt.title(\"Faces Extracted\");"
      ],
      "execution_count": 12,
      "outputs": [
        {
          "output_type": "display_data",
          "data": {
            "image/png": "[encoded data removed]",
            "text/plain": [
              "<Figure size 432x288 with 1 Axes>"
            ]
          },
          "metadata": {
            "tags": []
          }
        }
      ]
    },
    {
      "cell_type": "code",
      "metadata": {
        "id": "darjikd-ayvb",
        "colab_type": "code",
        "cellView": "form",
        "colab": {
          "base_uri": "https://localhost:8080/",
          "height": 173
        },
        "outputId": "2f0b86af-3ab0-4cee-faea-296fbf773366"
      },
      "source": [
        "#@title\n",
        "print(\"Percentage of Emotions from extracted Faces: \\n\" + str(emotionPerc))"
      ],
      "execution_count": 13,
      "outputs": [
        {
          "output_type": "stream",
          "text": [
            "Percentage of Emotions from extracted Faces: \n",
            "Fear        42.62\n",
            "Angry       32.46\n",
            "Happy       20.31\n",
            "Surprise     4.53\n",
            "Neutral      0.07\n",
            "Sad          0.00\n",
            "Disgust      0.00\n",
            "dtype: float64\n"
          ],
          "name": "stdout"
        }
      ]
    },
    {
      "cell_type": "code",
      "metadata": {
        "id": "trOU4WrLb2mV",
        "colab_type": "code",
        "cellView": "form",
        "colab": {
          "base_uri": "https://localhost:8080/",
          "height": 243
        },
        "outputId": "ce1fd4eb-7bdf-4af3-e816-607d16234e6b"
      },
      "source": [
        "#@title\n",
        "import textwrap\n",
        "bold_start = '\\033[1m'\n",
        "bold_end   = '\\033[0m'\n",
        "\n",
        "print(bold_start,\"Text from Video:\",bold_end)\n",
        "print(textwrap.fill(text, 100))\n",
        "print(bold_start,\"\\n\\nSentiment Polarity: \",bold_end + str(round(sentimentPolarity,3)) + bold_start,\"    Subjectivity: \", bold_end + str(round(setimentSubjectivity,3)))\n",
        "\n",
        "\n",
        "print(\"\\n\\n Scale for Sentiment: -1 to 1 \\n Scale for Subjectivity: 0 to 1\")"
      ],
      "execution_count": 18,
      "outputs": [
        {
          "output_type": "stream",
          "text": [
            "\u001b[1m Text from Video: \u001b[0m\n",
            " I've been I've been a scoundrel in my life I've been selfish I've been cruel at times hard to work\n",
            "with and ungrateful but so many of you in this room have given me a second chance and I think that's\n",
            "when we're at our best when we support each other not when we cancel each other out for past\n",
            "mistakes but when we help each other grow when we educate each other when we got each other towards\n",
            "Redemption that is the best of humanity\n",
            "\u001b[1m \n",
            "\n",
            "Sentiment Polarity:  \u001b[0m-0.013\u001b[1m     Subjectivity:  \u001b[0m0.444\n",
            "\n",
            "\n",
            " Scale for Sentiment: -1 to 1 \n",
            " Scale for Subjectivity: 0 to 1\n"
          ],
          "name": "stdout"
        }
      ]
    }
  ]
}